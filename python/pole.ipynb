{
 "cells": [
  {
   "cell_type": "code",
   "execution_count": 53,
   "metadata": {
    "collapsed": false
   },
   "outputs": [],
   "source": [
    "import os\n",
    "import subprocess\n",
    "import numpy as np\n",
    "\n",
    "os.chdir('/home/john/scriptsforSphereproject/')\n",
    "\n",
    "\n",
    "#First file (index 0) is the solve on TDLGD.\n",
    "\n",
    "electrostatic_potential_vec = np.linspace(-2.75, 2.75, 23 );\n",
    "\n",
    "for t in range(0,len(electrostatic_potential_vec)):\n",
    "    infile = open('/home/john/Hysteresis/6_PTO_STO_Pole-def.i')\n",
    "    outfile = open('/home/john/Hysteresis/test/6_PTO_STO_Pole-'+repr(t)+'.i', 'w')\n",
    "    replacements = {\n",
    "        'file = out_PTOsphere_inSTO_6_defH.e':'file = out_PTOsphere_inSTO_6_H'+repr(t)+'.e',\n",
    "        'value = def':'value = %s' % electrostatic_potential_vec[t],\n",
    "        'file_base = out_PTOsphere_inSTO_6_def':'file_base = out_PTOsphere_inSTO_6_'+repr(t)\n",
    "    }\n",
    "    for line in infile:\n",
    "        for src, target in replacements.iteritems():\n",
    "            line = line.replace(src, target)\n",
    "        outfile.write(line)\n",
    "    infile.close()\n",
    "    outfile.close()\n",
    "    \n",
    "for k in range(0,len(electrostatic_potential_vec)-1):\n",
    "    infile = open('/home/john/Hysteresis/6_PTO_STO_NoiseStep-def.i')\n",
    "    outfile = open('/home/john/Hysteresis/test/6_PTO_STO_NoiseStep-'+repr(k+1)+'.i', 'w')\n",
    "    replacements = {\n",
    "        'file = out_PTOsphere_inSTO_6_def.e':'file = out_PTOsphere_inSTO_6_'+repr(k)+'.e',\n",
    "        'file_base = out_PTOsphere_inSTO_6_defH.e':'file_base = out_PTOsphere_inSTO_6_H'+repr(k+1)\n",
    "    }\n",
    "    for line in infile:\n",
    "        for src, target in replacements.iteritems():\n",
    "            line = line.replace(src, target)\n",
    "        outfile.write(line)\n",
    "    infile.close()\n",
    "    outfile.close()\n",
    "    \n",
    "    \n",
    "#Make sure first file solves TDLGD with the original mesh.\n",
    "infile = open('/home/john/Hysteresis/test/6_PTO_STO_Pole-0.i')\n",
    "outfile = open('/home/john/Hysteresis/test/6_PTO_STO_Pole-0temp.i', 'w')\n",
    "replacements = {\n",
    "        \"initial_from_file_timestep = 'LATEST'\":\"\",\n",
    "        \"initial_from_file_var = polar_x\":\"[./InitialCondition]      type = RandomIC      min = -0.5e-5      max = 0.5e-5      seed = 1    [../]\",\n",
    "        \"initial_from_file_var = polar_y\":\"[./InitialCondition]      type = RandomIC      min = -0.5e-5      max = 0.5e-5      seed = 1    [../]\",\n",
    "        \"initial_from_file_var = polar_z\":\"[./InitialCondition]      type = RandomIC      min = -0.5e-5      max = 0.5e-5      seed = 1    [../]\",\n",
    "        \"initial_from_file_var = potential_int\":\"[./InitialCondition]      type = RandomIC      min = -0.5e-5      max = 0.5e-5      seed = 1    [../]\",\n",
    "        \"initial_from_file_var = disp_x\":\"\",\n",
    "        \"initial_from_file_var = disp_y\":\"\",\n",
    "        \"initial_from_file_var = disp_z\":\"\",\n",
    "        \"initial_from_file_var = stress_xx_elastic\":\"\",\n",
    "        \"initial_from_file_var = stress_xy_elastic\":\"\",\n",
    "        \"initial_from_file_var = stress_xz_elastic\":\"\",\n",
    "        \"initial_from_file_var = stress_yy_elastic\":\"\",\n",
    "        \"initial_from_file_var = stress_yz_elastic\":\"\",\n",
    "        \"initial_from_file_var = stress_zz_elastic\":\"\",\n",
    "        \"initial_from_file_var = strain_xx_elastic\":\"\",\n",
    "        \"initial_from_file_var = strain_xy_elastic\":\"\",\n",
    "        \"initial_from_file_var = strain_xz_elastic\":\"\",\n",
    "        \"initial_from_file_var = strain_yy_elastic\":\"\",\n",
    "        \"initial_from_file_var = strain_yz_elastic\":\"\",\n",
    "        \"initial_from_file_var = strain_zz_elastic\":\"\",\n",
    "        \"initial_from_file_var = chern\":\"\",\n",
    "        'file = out_PTOsphere_inSTO_6_H0.e':'file = embedded_single_sphere_6.e'\n",
    "    }\n",
    "for line in infile:\n",
    "    for src, target in replacements.iteritems():\n",
    "        line = line.replace(src, target)\n",
    "    outfile.write(line)\n",
    "infile.close()\n",
    "outfile.close()\n",
    "\n",
    "#remove and rename the first file.\n",
    "os.remove('/home/john/Hysteresis/test/6_PTO_STO_Pole-0.i')\n",
    "\n",
    "os.rename(\"/home/john/Hysteresis/test/6_PTO_STO_Pole-0temp.i\",\"/home/john/Hysteresis/test/6_PTO_STO_Pole-0.i\")"
   ]
  },
  {
   "cell_type": "code",
   "execution_count": null,
   "metadata": {
    "collapsed": true
   },
   "outputs": [],
   "source": [
    "\n",
    "\n"
   ]
  },
  {
   "cell_type": "code",
   "execution_count": null,
   "metadata": {
    "collapsed": true
   },
   "outputs": [],
   "source": []
  }
 ],
 "metadata": {
  "kernelspec": {
   "display_name": "Python 2",
   "language": "python",
   "name": "python2"
  },
  "language_info": {
   "codemirror_mode": {
    "name": "ipython",
    "version": 2
   },
   "file_extension": ".py",
   "mimetype": "text/x-python",
   "name": "python",
   "nbconvert_exporter": "python",
   "pygments_lexer": "ipython2",
   "version": "2.7.11"
  }
 },
 "nbformat": 4,
 "nbformat_minor": 0
}
