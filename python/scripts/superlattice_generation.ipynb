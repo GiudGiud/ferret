{
 "cells": [
  {
   "cell_type": "markdown",
   "metadata": {},
   "source": [
    "Here we will adapt ThePaulScript to allow adaptive mesh creation and input file scripting because I anticipate having to scale this production run"
   ]
  },
  {
   "cell_type": "raw",
   "metadata": {},
   "source": []
  },
  {
   "cell_type": "code",
   "execution_count": 19,
   "metadata": {
    "collapsed": false
   },
   "outputs": [
    {
     "ename": "NameError",
     "evalue": "name 'replace_line_two' is not defined",
     "output_type": "error",
     "traceback": [
      "\u001b[1;31m---------------------------------------------------------------------------\u001b[0m",
      "\u001b[1;31mNameError\u001b[0m                                 Traceback (most recent call last)",
      "\u001b[1;32m<ipython-input-19-d7e6a08adcb2>\u001b[0m in \u001b[0;36m<module>\u001b[1;34m()\u001b[0m\n\u001b[0;32m     31\u001b[0m replacements = {\n\u001b[0;32m     32\u001b[0m                 \u001b[0mline_one\u001b[0m\u001b[1;33m:\u001b[0m\u001b[0mreplace_line_one\u001b[0m\u001b[1;33m,\u001b[0m\u001b[1;33m\u001b[0m\u001b[0m\n\u001b[1;32m---> 33\u001b[1;33m                 \u001b[0mline_two\u001b[0m\u001b[1;33m:\u001b[0m\u001b[0mreplace_line_two\u001b[0m\u001b[1;33m,\u001b[0m\u001b[1;33m\u001b[0m\u001b[0m\n\u001b[0m\u001b[0;32m     34\u001b[0m                 \u001b[0mline_three\u001b[0m\u001b[1;33m:\u001b[0m\u001b[0mreplace_line_three\u001b[0m\u001b[1;33m\u001b[0m\u001b[0m\n\u001b[0;32m     35\u001b[0m                }\n",
      "\u001b[1;31mNameError\u001b[0m: name 'replace_line_two' is not defined"
     ]
    }
   ],
   "source": [
    "import os\n",
    "import subprocess\n",
    "import numpy as np\n",
    "\n",
    "X_size = '5'\n",
    "Y_size = '40'\n",
    "Z_size = '25'\n",
    "Zsub_size = '10'\n",
    "\n",
    "X3m = 3 * int(X_size); X2m = 2 * int(X_size); X1m = 1 * int(X_size); X4p = 4 * int(X_size);\n",
    "\n",
    "os.chdir('/home/john/projects/ferret/meshrecipes/def')\n",
    "\n",
    "def replace_all(text, dic):\n",
    "    for i, j in dic.iteritems():\n",
    "        text = text.replace(i, j)\n",
    "    return text\n",
    "\n",
    "line_one = 'create brick x X y Y z Z'\n",
    "replacements_line_one = {'X': X_size, 'Y': Y_size, 'Z': Z_size}\n",
    "replacements_line_two = {'3Xm': X3m, '2Xm': X2m, '1Xm': X1m, '4Xp': X4p}\n",
    "replacements_line_three = {'Zsub': Zsub_size}\n",
    "\n",
    "replace_line_one = replace_all(line_one, replacements_line_one)\n",
    "replace_line_two = replace_all(line_two, replacements_line_two)\n",
    "replace_line_three = replace_all(line_three, replacements_line_three)\n",
    "\n",
    "\n",
    "# Define the base file we will be modifiying #\n",
    "infile = open('/home/john/projects/ferret/meshrecipes/def/ridgeDef')\n",
    "outfile = open('/home/john/projects/ferret/meshrecipes/ridge.py', 'w')\n",
    "\n",
    "replacements = {\n",
    "                line_one:replace_line_one,\n",
    "                line_two:replace_line_two,\n",
    "                line_three:replace_line_three\n",
    "               }\n",
    "for line in infile:\n",
    "    for src, target in replacements.iteritems():\n",
    "        line = line.replace(src, target)\n",
    "    outfile.write(line)\n",
    "infile.close()\n",
    "outfile.close()"
   ]
  },
  {
   "cell_type": "code",
   "execution_count": 1,
   "metadata": {
    "collapsed": true
   },
   "outputs": [],
   "source": [
    "#vary the constant eigenstrains on the three different configurations\n",
    "\n",
    "import os\n",
    "import subprocess\n",
    "import numpy as np\n",
    "\n",
    "dof = 3952557; #which means we should use 130 processors (8 nodes) for this problem.\n",
    "\n",
    "eigenstrain_vec = np.linspace(-0.01, 0.01, 15);\n",
    "\n",
    "for t in range(0,len(eigenstrain_vec)):\n",
    "    infile = open('/home/john/PaulScript/aPTOridge_constant_eigenstrain.i')\n",
    "    outfile = open('/home/john/PaulScript/aPTOridge_constant_eigenstrain-'+repr(t)+'.i', 'w')\n",
    "    replacements = {'prefactor = def':'prefactor = %s' % eigenstrain_vec[t],\n",
    "                    'file_base = outPTOridge_test_const_eigen_0polar':'file_base = out_aPTOridge_test_const_eigen'+repr(t)}\n",
    "    for line in infile:\n",
    "        for src, target in replacements.iteritems():\n",
    "            line = line.replace(src, target)\n",
    "        outfile.write(line)\n",
    "    infile.close()\n",
    "    outfile.close()\n",
    "    \n",
    "for k in range(0,len(eigenstrain_vec)):\n",
    "    infile = open('/home/john/PaulScript/p1PTOridge_constant_eigenstrain.i')\n",
    "    outfile = open('/home/john/PaulScript/p1PTOridge_constant_eigenstrain-'+repr(k)+'.i', 'w')\n",
    "    replacements = {'prefactor = def':'prefactor = %s' % eigenstrain_vec[k],\n",
    "                    'file_base = outPTOridge_test_const_eigen_0polar':'file_base = out_p1PTOridge_test_const_eigen'+repr(k)}\n",
    "    for line in infile:\n",
    "        for src, target in replacements.iteritems():\n",
    "            line = line.replace(src, target)\n",
    "        outfile.write(line)\n",
    "    infile.close()\n",
    "    outfile.close()\n",
    "\n",
    "for j in range(0,len(eigenstrain_vec)):\n",
    "    infile = open('/home/john/PaulScript/p2PTOridge_constant_eigenstrain.i')\n",
    "    outfile = open('/home/john/PaulScript/p2PTOridge_constant_eigenstrain-'+repr(j)+'.i', 'w')\n",
    "    replacements = {'prefactor = def':'prefactor = %s' % eigenstrain_vec[j],\n",
    "                    'file_base = outPTOridge_test_const_eigen_0polar':'file_base = out_p1PTOridge_test_const_eigen'+repr(j)}\n",
    "    for line in infile:\n",
    "        for src, target in replacements.iteritems():\n",
    "            line = line.replace(src, target)\n",
    "        outfile.write(line)\n",
    "    infile.close()\n",
    "    outfile.close()\n",
    "    "
   ]
  },
  {
   "cell_type": "code",
   "execution_count": 7,
   "metadata": {
    "collapsed": false
   },
   "outputs": [
    {
     "data": {
      "text/plain": [
       "'create brick x X y Y z Z'"
      ]
     },
     "execution_count": 7,
     "metadata": {},
     "output_type": "execute_result"
    }
   ],
   "source": [
    "line_one"
   ]
  },
  {
   "cell_type": "code",
   "execution_count": null,
   "metadata": {
    "collapsed": true
   },
   "outputs": [],
   "source": []
  },
  {
   "cell_type": "code",
   "execution_count": null,
   "metadata": {
    "collapsed": true
   },
   "outputs": [],
   "source": []
  }
 ],
 "metadata": {
  "kernelspec": {
   "display_name": "Python 2",
   "language": "python",
   "name": "python2"
  },
  "language_info": {
   "codemirror_mode": {
    "name": "ipython",
    "version": 2
   },
   "file_extension": ".py",
   "mimetype": "text/x-python",
   "name": "python",
   "nbconvert_exporter": "python",
   "pygments_lexer": "ipython2",
   "version": "2.7.11"
  }
 },
 "nbformat": 4,
 "nbformat_minor": 0
}
