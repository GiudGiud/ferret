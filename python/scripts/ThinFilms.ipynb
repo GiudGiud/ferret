{
 "cells": [
  {
   "cell_type": "markdown",
   "metadata": {},
   "source": [
    "This Python notebook file will generate a thin film of ferroelectric material in MOOSE at a given temperature. Here we will exploit the mesh construction in CUBIT and then pass the information about the material constants to an input file suitable for MOOSE/Ferret."
   ]
  },
  {
   "cell_type": "code",
   "execution_count": 2,
   "metadata": {
    "collapsed": false
   },
   "outputs": [],
   "source": [
    "XY_size = '20'\n",
    "\n",
    "film_height = '12'\n",
    "\n",
    "substrate_depth = '10'\n",
    "\n",
    "move_vector = int(film_height)/2.0 + int(substrate_depth)/2.0\n",
    "\n",
    "# input mesh size less than 1.0\n",
    "mesh_size = 0.9"
   ]
  },
  {
   "cell_type": "code",
   "execution_count": 3,
   "metadata": {
    "collapsed": false
   },
   "outputs": [],
   "source": [
    "import os\n",
    "import subprocess\n",
    "import numpy as np\n",
    "\n",
    "os.chdir('/home/john/projects/ferret/python')\n",
    "\n",
    "def replace_all(text, dic):\n",
    "    for i, j in dic.iteritems():\n",
    "        text = text.replace(i, j)\n",
    "    return text\n",
    "\n",
    "line_one = 'create brick x XY y XY z FilmHeight'\n",
    "line_two = 'create brick x XY y XY z SubstrateDepth'\n",
    "line_three = 'volume 2 move 0 0 MoveVector'\n",
    "line_four = 'volume 1 2 size MeshSize'\n",
    "line_five = 'export Genesis \"./exodus_thinfilm_test_def.e\" dimension 3 block all overwrite'\n",
    "\n",
    "replacements_line_one = {'XY': XY_size, 'FilmHeight': film_height}\n",
    "replacements_line_two = {'XY': XY_size, 'SubstrateDepth': substrate_depth}\n",
    "replacements_line_three = {'MoveVector': repr(move_vector)}\n",
    "replacements_line_four = {'MeshSize': repr(mesh_size)}\n",
    "replacements_line_five = {\"./exodus_thinfilm_test_def.e\": \"/home/john/projects/ferret/mesh/./exodus_thinfilm_0\" \n",
    "                          + repr(int(round(10.0 * mesh_size))) \n",
    "                          + \"_\" + repr(int(XY_size))\n",
    "                          + \"_\" + repr(int(film_height))\n",
    "                          + \"_\" + repr(int(substrate_depth))\n",
    "                          + \".e\"\n",
    "                         }\n",
    "\n",
    "replace_line_one = replace_all(line_one, replacements_line_one)\n",
    "replace_line_two = replace_all(line_two, replacements_line_two)\n",
    "replace_line_three = replace_all(line_three, replacements_line_three)\n",
    "replace_line_four = replace_all(line_four, replacements_line_four)\n",
    "replace_line_five = replace_all(line_five, replacements_line_five)\n",
    "\n",
    "# Define the base file we will be modifiying #\n",
    "infile = open('/home/john/projects/ferret/meshrecipes/def/thinfilmDef')\n",
    "outfile = open('/home/john/projects/ferret/meshrecipes/thinfilm.py', 'w')\n",
    "\n",
    "replacements = {line_one:replace_line_one,\n",
    "                line_two:replace_line_two,\n",
    "                line_three:replace_line_three,\n",
    "                line_four:replace_line_four,\n",
    "                line_five:replace_line_five\n",
    "               }\n",
    "for line in infile:\n",
    "    for src, target in replacements.iteritems():\n",
    "        line = line.replace(src, target)\n",
    "    outfile.write(line)\n",
    "infile.close()\n",
    "outfile.close()"
   ]
  },
  {
   "cell_type": "markdown",
   "metadata": {},
   "source": [
    "Now we take the above file and pass it to the CUBIT and save the resulting mesh file in /ferret/mesh"
   ]
  },
  {
   "cell_type": "code",
   "execution_count": null,
   "metadata": {
    "collapsed": true
   },
   "outputs": [],
   "source": [
    "import os\n",
    "import subprocess\n",
    "\n",
    "os.chdir('/home/john/projects/cubit/cubit-14.1/bin')\n",
    "subprocess.call('./cubit /home/john/projects/ferret/meshrecipes/thinfilm.py',shell=True)"
   ]
  },
  {
   "cell_type": "code",
   "execution_count": null,
   "metadata": {
    "collapsed": true
   },
   "outputs": [],
   "source": []
  },
  {
   "cell_type": "code",
   "execution_count": null,
   "metadata": {
    "collapsed": true
   },
   "outputs": [],
   "source": []
  },
  {
   "cell_type": "code",
   "execution_count": null,
   "metadata": {
    "collapsed": true
   },
   "outputs": [],
   "source": []
  }
 ],
 "metadata": {
  "kernelspec": {
   "display_name": "Python 2",
   "language": "python",
   "name": "python2"
  },
  "language_info": {
   "codemirror_mode": {
    "name": "ipython",
    "version": 2
   },
   "file_extension": ".py",
   "mimetype": "text/x-python",
   "name": "python",
   "nbconvert_exporter": "python",
   "pygments_lexer": "ipython2",
   "version": "2.7.11"
  }
 },
 "nbformat": 4,
 "nbformat_minor": 0
}
